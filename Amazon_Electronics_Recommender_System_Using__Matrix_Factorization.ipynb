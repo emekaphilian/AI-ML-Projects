{
  "cells": [
    {
      "cell_type": "markdown",
      "metadata": {
        "id": "view-in-github",
        "colab_type": "text"
      },
      "source": [
        "<a href=\"https://colab.research.google.com/github/emekaphilian/AI-ML-Projects/blob/main/Amazon_Electronics_Recommender_System_Using__Matrix_Factorization.ipynb\" target=\"_parent\"><img src=\"https://colab.research.google.com/assets/colab-badge.svg\" alt=\"Open In Colab\"/></a>"
      ]
    },
    {
      "cell_type": "markdown",
      "metadata": {
        "id": "RmrTYU10Tlv5"
      },
      "source": [
        "# **Recommender System with Matrix FActorization - Amazon Electronics Reviews Datasets**\n",
        "\n",
        "A **recommender system** is a type of software that suggests items (like products, services, or content) to users based on various factors, such as their preferences, behaviors, or interactions with the system. These systems are widely used in many online platforms, such as e-commerce sites (Amazon, eBay), music streaming services (Spotify, Apple Music), video platforms (Netflix, YouTube), and social media sites (Facebook, Instagram).\n",
        "\n",
        "There are generally three main types of recommender systems:\n",
        "\n",
        "1. **Collaborative Filtering**:\n",
        "   - This method suggests items by identifying patterns in the behavior of users with similar tastes. For example, if User A and User B have liked similar movies in the past, the system may recommend movies that User A liked but User B hasn't seen yet. Collaborative filtering can be broken down into:\n",
        "     - **User-based**: Recommending items that similar users have liked.\n",
        "     - **Item-based**: Recommending items that are similar to ones the user has liked or interacted with.\n",
        "   \n",
        "2. **Content-Based Filtering**:\n",
        "   - This method recommends items based on the features or characteristics of the items themselves, as well as the user's past preferences. For instance, if you’ve watched many romantic comedies on Netflix, the system might recommend more movies of that genre, based on their content (genre, actors, themes, etc.).\n",
        "\n",
        "3. **Hybrid Methods**:\n",
        "   - These systems combine multiple approaches, such as collaborative filtering and content-based filtering, to improve recommendation accuracy. By blending the strengths of different methods, hybrid systems can provide more relevant and personalized recommendations.\n",
        "\n",
        "Recommender systems use various techniques such as machine learning, statistical models, and user interaction data to make their suggestions. They play a huge role in enhancing user experience and driving engagement on digital platforms."
      ]
    },
    {
      "cell_type": "markdown",
      "metadata": {
        "id": "6CHCksKqVU2k"
      },
      "source": [
        "Matrix Factorization is a technique used in recommender systems to predict what a user might like, based on patterns in their past behavior (such as what items they have liked or rated before).\n",
        "\n",
        "Imagine you have a huge table (matrix) where rows represent users, columns represent items (like movies or products), and each cell in the table shows how much a user likes a particular item (for example, the rating they gave a movie). But here's the catch: this table is very sparse, meaning most of the cells are empty because users haven't rated most items. Matrix factorization helps fill in these missing ratings.\n",
        "\n",
        "### Here's a simple analogy to explain it:\n",
        "\n",
        "Imagine you're trying to predict what movies a person might like, but you don't know their preferences for every movie. However, you know that:\n",
        "- Some users like similar types of movies (e.g., action movies, romantic comedies, etc.)\n",
        "- Some movies are similar to each other in terms of style or genre.\n",
        "\n",
        "Matrix factorization breaks the big table into two smaller tables (called \"factors\"). These two smaller tables represent:\n",
        "1. The **users** and their preference for different **movie genres**.\n",
        "2. The **movies** and how they relate to these **genres**.\n",
        "\n",
        "By combining these two smaller tables, you can predict how much a user might like a movie they haven't rated yet, based on their preferences for genres and the genre of the movie.\n",
        "\n",
        "In simpler terms: **Matrix factorization** finds hidden patterns in the data by breaking down the complex user-item interactions into simpler, more manageable parts. Once this happens, the system can predict missing values (like a user’s rating for a movie they haven’t seen yet) based on those hidden patterns. This helps the recommender system suggest new items that the user is likely to enjoy."
      ]
    },
    {
      "cell_type": "markdown",
      "metadata": {
        "id": "RwobG6REWq0r"
      },
      "source": [
        "\n",
        "In this project, I'll guide you through building a recommender system in Python using matrix factorization, applied to the **Amazon Electronics Review dataset**. This dataset contains user reviews, ratings, and metadata for electronic products sold on Amazon, making it ideal for creating a product recommendation system. We'll use the **Surprise** library to implement matrix factorization algorithms and uncover hidden patterns in user-item interactions. By the end, you'll have a functional recommender system tailored to suggest electronics based on user preferences."
      ]
    },
    {
      "cell_type": "markdown",
      "metadata": {
        "id": "9N5uLiXmXp1k"
      },
      "source": [
        "# Step-by-Step Process\n",
        "The first step is to import the necessary libraries and packages. You may need to manually install and import the surprise library before being able to import it.\n",
        "\n"
      ]
    },
    {
      "cell_type": "code",
      "execution_count": 2,
      "metadata": {
        "colab": {
          "base_uri": "https://localhost:8080/",
          "height": 550
        },
        "id": "Z7vhhSG7zPhB",
        "outputId": "9ecaec7a-7b8b-4033-8e10-19b05141c20e"
      },
      "outputs": [
        {
          "output_type": "stream",
          "name": "stdout",
          "text": [
            "Collecting numpy==1.23.5\n",
            "  Downloading numpy-1.23.5-cp311-cp311-manylinux_2_17_x86_64.manylinux2014_x86_64.whl.metadata (2.3 kB)\n",
            "Downloading numpy-1.23.5-cp311-cp311-manylinux_2_17_x86_64.manylinux2014_x86_64.whl (17.1 MB)\n",
            "\u001b[2K   \u001b[90m━━━━━━━━━━━━━━━━━━━━━━━━━━━━━━━━━━━━━━━━\u001b[0m \u001b[32m17.1/17.1 MB\u001b[0m \u001b[31m100.1 MB/s\u001b[0m eta \u001b[36m0:00:00\u001b[0m\n",
            "\u001b[?25hInstalling collected packages: numpy\n",
            "  Attempting uninstall: numpy\n",
            "    Found existing installation: numpy 2.0.2\n",
            "    Uninstalling numpy-2.0.2:\n",
            "      Successfully uninstalled numpy-2.0.2\n",
            "\u001b[31mERROR: pip's dependency resolver does not currently take into account all the packages that are installed. This behaviour is the source of the following dependency conflicts.\n",
            "blosc2 3.2.1 requires numpy>=1.26, but you have numpy 1.23.5 which is incompatible.\n",
            "jax 0.5.2 requires numpy>=1.25, but you have numpy 1.23.5 which is incompatible.\n",
            "xarray 2025.1.2 requires numpy>=1.24, but you have numpy 1.23.5 which is incompatible.\n",
            "albumentations 2.0.5 requires numpy>=1.24.4, but you have numpy 1.23.5 which is incompatible.\n",
            "chex 0.1.89 requires numpy>=1.24.1, but you have numpy 1.23.5 which is incompatible.\n",
            "scikit-image 0.25.2 requires numpy>=1.24, but you have numpy 1.23.5 which is incompatible.\n",
            "albucore 0.0.23 requires numpy>=1.24.4, but you have numpy 1.23.5 which is incompatible.\n",
            "bigframes 1.42.0 requires numpy>=1.24.0, but you have numpy 1.23.5 which is incompatible.\n",
            "pymc 5.21.1 requires numpy>=1.25.0, but you have numpy 1.23.5 which is incompatible.\n",
            "tensorflow 2.18.0 requires numpy<2.1.0,>=1.26.0, but you have numpy 1.23.5 which is incompatible.\n",
            "treescope 0.1.9 requires numpy>=1.25.2, but you have numpy 1.23.5 which is incompatible.\n",
            "imbalanced-learn 0.13.0 requires numpy<3,>=1.24.3, but you have numpy 1.23.5 which is incompatible.\n",
            "jaxlib 0.5.1 requires numpy>=1.25, but you have numpy 1.23.5 which is incompatible.\u001b[0m\u001b[31m\n",
            "\u001b[0mSuccessfully installed numpy-1.23.5\n"
          ]
        },
        {
          "output_type": "display_data",
          "data": {
            "application/vnd.colab-display-data+json": {
              "pip_warning": {
                "packages": [
                  "numpy"
                ]
              },
              "id": "34ef85dbccc3445e9482ef2f972d6cc1"
            }
          },
          "metadata": {}
        }
      ],
      "source": [
        "!pip install numpy==1.23.5\n",
        "\n",
        "\n",
        "\n"
      ]
    },
    {
      "cell_type": "code",
      "execution_count": 1,
      "metadata": {
        "colab": {
          "base_uri": "https://localhost:8080/"
        },
        "id": "sGOw3X4m9wPZ",
        "outputId": "6153cd9b-c56f-492b-9b63-bef6d128b605"
      },
      "outputs": [
        {
          "output_type": "stream",
          "name": "stdout",
          "text": [
            "Collecting scikit-surprise\n",
            "  Downloading scikit_surprise-1.1.4.tar.gz (154 kB)\n",
            "\u001b[?25l     \u001b[90m━━━━━━━━━━━━━━━━━━━━━━━━━━━━━━━━━━━━━━━━\u001b[0m \u001b[32m0.0/154.4 kB\u001b[0m \u001b[31m?\u001b[0m eta \u001b[36m-:--:--\u001b[0m\r\u001b[2K     \u001b[90m━━━━━━━━━━━━━━━━━━━━━━━━━━━━━━━━━━━━━━━━\u001b[0m \u001b[32m154.4/154.4 kB\u001b[0m \u001b[31m5.6 MB/s\u001b[0m eta \u001b[36m0:00:00\u001b[0m\n",
            "\u001b[?25h  Installing build dependencies ... \u001b[?25l\u001b[?25hdone\n",
            "  Getting requirements to build wheel ... \u001b[?25l\u001b[?25hdone\n",
            "  Preparing metadata (pyproject.toml) ... \u001b[?25l\u001b[?25hdone\n",
            "Requirement already satisfied: joblib>=1.2.0 in /usr/local/lib/python3.11/dist-packages (from scikit-surprise) (1.4.2)\n",
            "Requirement already satisfied: numpy>=1.19.5 in /usr/local/lib/python3.11/dist-packages (from scikit-surprise) (1.23.5)\n",
            "Requirement already satisfied: scipy>=1.6.0 in /usr/local/lib/python3.11/dist-packages (from scikit-surprise) (1.14.1)\n",
            "Building wheels for collected packages: scikit-surprise\n",
            "  Building wheel for scikit-surprise (pyproject.toml) ... \u001b[?25l\u001b[?25hdone\n",
            "  Created wheel for scikit-surprise: filename=scikit_surprise-1.1.4-cp311-cp311-linux_x86_64.whl size=2505220 sha256=90072fcee6d73ed7f997bff5df7e7945a764f7a08161f3e200e6346249c861e9\n",
            "  Stored in directory: /root/.cache/pip/wheels/2a/8f/6e/7e2899163e2d85d8266daab4aa1cdabec7a6c56f83c015b5af\n",
            "Successfully built scikit-surprise\n",
            "Installing collected packages: scikit-surprise\n",
            "Successfully installed scikit-surprise-1.1.4\n"
          ]
        }
      ],
      "source": [
        "!pip install --upgrade scikit-surprise\n"
      ]
    },
    {
      "cell_type": "code",
      "execution_count": 2,
      "metadata": {
        "id": "vNX-cmOHTUfx"
      },
      "outputs": [],
      "source": [
        "import pandas as pd\n",
        "import numpy as np\n",
        "import matplotlib.pyplot as plt\n",
        "import seaborn as sns\n",
        "import requests\n",
        "import zipfile\n",
        "import os\n",
        "import io\n",
        "\n",
        "from surprise import Dataset, Reader, SVD\n",
        "\n",
        "from surprise.model_selection import train_test_split\n",
        "from surprise import accuracy"
      ]
    },
    {
      "cell_type": "markdown",
      "metadata": {
        "id": "F9exvc7M_XDt"
      },
      "source": [
        "I will define a function to automatically download the **Amazon Electronics Reviews** dataset from **Kaggle** and save it to **Google Drive** in **Google Colab**.  \n",
        "\n",
        "This function will:  \n",
        "✅ Download the dataset from Kaggle.  \n",
        "✅ Save it to a specified directory in Google Drive.  \n",
        "✅ Extract the dataset if it's in a ZIP format.  \n",
        "✅ Load the **Electronics_5.json** file into a **Pandas DataFrame** for further processing.  "
      ]
    },
    {
      "cell_type": "code",
      "execution_count": 3,
      "metadata": {
        "colab": {
          "base_uri": "https://localhost:8080/"
        },
        "id": "1awld_GRM0D2",
        "outputId": "2300fe70-9049-4414-810b-7cf3b77342c3"
      },
      "outputs": [
        {
          "output_type": "stream",
          "name": "stdout",
          "text": [
            "Mounted at /content/drive\n"
          ]
        }
      ],
      "source": [
        "from google.colab import drive\n",
        "drive.mount('/content/drive')\n"
      ]
    },
    {
      "cell_type": "code",
      "execution_count": 8,
      "metadata": {
        "colab": {
          "base_uri": "https://localhost:8080/",
          "height": 90
        },
        "id": "lIT1UR_1L1NQ",
        "outputId": "c6160763-7d56-4221-86c3-56060b413fb5"
      },
      "outputs": [
        {
          "output_type": "display_data",
          "data": {
            "text/plain": [
              "<IPython.core.display.HTML object>"
            ],
            "text/html": [
              "\n",
              "     <input type=\"file\" id=\"files-f2733280-6cd5-4e4b-b65a-bc7b70ada063\" name=\"files[]\" multiple disabled\n",
              "        style=\"border:none\" />\n",
              "     <output id=\"result-f2733280-6cd5-4e4b-b65a-bc7b70ada063\">\n",
              "      Upload widget is only available when the cell has been executed in the\n",
              "      current browser session. Please rerun this cell to enable.\n",
              "      </output>\n",
              "      <script>// Copyright 2017 Google LLC\n",
              "//\n",
              "// Licensed under the Apache License, Version 2.0 (the \"License\");\n",
              "// you may not use this file except in compliance with the License.\n",
              "// You may obtain a copy of the License at\n",
              "//\n",
              "//      http://www.apache.org/licenses/LICENSE-2.0\n",
              "//\n",
              "// Unless required by applicable law or agreed to in writing, software\n",
              "// distributed under the License is distributed on an \"AS IS\" BASIS,\n",
              "// WITHOUT WARRANTIES OR CONDITIONS OF ANY KIND, either express or implied.\n",
              "// See the License for the specific language governing permissions and\n",
              "// limitations under the License.\n",
              "\n",
              "/**\n",
              " * @fileoverview Helpers for google.colab Python module.\n",
              " */\n",
              "(function(scope) {\n",
              "function span(text, styleAttributes = {}) {\n",
              "  const element = document.createElement('span');\n",
              "  element.textContent = text;\n",
              "  for (const key of Object.keys(styleAttributes)) {\n",
              "    element.style[key] = styleAttributes[key];\n",
              "  }\n",
              "  return element;\n",
              "}\n",
              "\n",
              "// Max number of bytes which will be uploaded at a time.\n",
              "const MAX_PAYLOAD_SIZE = 100 * 1024;\n",
              "\n",
              "function _uploadFiles(inputId, outputId) {\n",
              "  const steps = uploadFilesStep(inputId, outputId);\n",
              "  const outputElement = document.getElementById(outputId);\n",
              "  // Cache steps on the outputElement to make it available for the next call\n",
              "  // to uploadFilesContinue from Python.\n",
              "  outputElement.steps = steps;\n",
              "\n",
              "  return _uploadFilesContinue(outputId);\n",
              "}\n",
              "\n",
              "// This is roughly an async generator (not supported in the browser yet),\n",
              "// where there are multiple asynchronous steps and the Python side is going\n",
              "// to poll for completion of each step.\n",
              "// This uses a Promise to block the python side on completion of each step,\n",
              "// then passes the result of the previous step as the input to the next step.\n",
              "function _uploadFilesContinue(outputId) {\n",
              "  const outputElement = document.getElementById(outputId);\n",
              "  const steps = outputElement.steps;\n",
              "\n",
              "  const next = steps.next(outputElement.lastPromiseValue);\n",
              "  return Promise.resolve(next.value.promise).then((value) => {\n",
              "    // Cache the last promise value to make it available to the next\n",
              "    // step of the generator.\n",
              "    outputElement.lastPromiseValue = value;\n",
              "    return next.value.response;\n",
              "  });\n",
              "}\n",
              "\n",
              "/**\n",
              " * Generator function which is called between each async step of the upload\n",
              " * process.\n",
              " * @param {string} inputId Element ID of the input file picker element.\n",
              " * @param {string} outputId Element ID of the output display.\n",
              " * @return {!Iterable<!Object>} Iterable of next steps.\n",
              " */\n",
              "function* uploadFilesStep(inputId, outputId) {\n",
              "  const inputElement = document.getElementById(inputId);\n",
              "  inputElement.disabled = false;\n",
              "\n",
              "  const outputElement = document.getElementById(outputId);\n",
              "  outputElement.innerHTML = '';\n",
              "\n",
              "  const pickedPromise = new Promise((resolve) => {\n",
              "    inputElement.addEventListener('change', (e) => {\n",
              "      resolve(e.target.files);\n",
              "    });\n",
              "  });\n",
              "\n",
              "  const cancel = document.createElement('button');\n",
              "  inputElement.parentElement.appendChild(cancel);\n",
              "  cancel.textContent = 'Cancel upload';\n",
              "  const cancelPromise = new Promise((resolve) => {\n",
              "    cancel.onclick = () => {\n",
              "      resolve(null);\n",
              "    };\n",
              "  });\n",
              "\n",
              "  // Wait for the user to pick the files.\n",
              "  const files = yield {\n",
              "    promise: Promise.race([pickedPromise, cancelPromise]),\n",
              "    response: {\n",
              "      action: 'starting',\n",
              "    }\n",
              "  };\n",
              "\n",
              "  cancel.remove();\n",
              "\n",
              "  // Disable the input element since further picks are not allowed.\n",
              "  inputElement.disabled = true;\n",
              "\n",
              "  if (!files) {\n",
              "    return {\n",
              "      response: {\n",
              "        action: 'complete',\n",
              "      }\n",
              "    };\n",
              "  }\n",
              "\n",
              "  for (const file of files) {\n",
              "    const li = document.createElement('li');\n",
              "    li.append(span(file.name, {fontWeight: 'bold'}));\n",
              "    li.append(span(\n",
              "        `(${file.type || 'n/a'}) - ${file.size} bytes, ` +\n",
              "        `last modified: ${\n",
              "            file.lastModifiedDate ? file.lastModifiedDate.toLocaleDateString() :\n",
              "                                    'n/a'} - `));\n",
              "    const percent = span('0% done');\n",
              "    li.appendChild(percent);\n",
              "\n",
              "    outputElement.appendChild(li);\n",
              "\n",
              "    const fileDataPromise = new Promise((resolve) => {\n",
              "      const reader = new FileReader();\n",
              "      reader.onload = (e) => {\n",
              "        resolve(e.target.result);\n",
              "      };\n",
              "      reader.readAsArrayBuffer(file);\n",
              "    });\n",
              "    // Wait for the data to be ready.\n",
              "    let fileData = yield {\n",
              "      promise: fileDataPromise,\n",
              "      response: {\n",
              "        action: 'continue',\n",
              "      }\n",
              "    };\n",
              "\n",
              "    // Use a chunked sending to avoid message size limits. See b/62115660.\n",
              "    let position = 0;\n",
              "    do {\n",
              "      const length = Math.min(fileData.byteLength - position, MAX_PAYLOAD_SIZE);\n",
              "      const chunk = new Uint8Array(fileData, position, length);\n",
              "      position += length;\n",
              "\n",
              "      const base64 = btoa(String.fromCharCode.apply(null, chunk));\n",
              "      yield {\n",
              "        response: {\n",
              "          action: 'append',\n",
              "          file: file.name,\n",
              "          data: base64,\n",
              "        },\n",
              "      };\n",
              "\n",
              "      let percentDone = fileData.byteLength === 0 ?\n",
              "          100 :\n",
              "          Math.round((position / fileData.byteLength) * 100);\n",
              "      percent.textContent = `${percentDone}% done`;\n",
              "\n",
              "    } while (position < fileData.byteLength);\n",
              "  }\n",
              "\n",
              "  // All done.\n",
              "  yield {\n",
              "    response: {\n",
              "      action: 'complete',\n",
              "    }\n",
              "  };\n",
              "}\n",
              "\n",
              "scope.google = scope.google || {};\n",
              "scope.google.colab = scope.google.colab || {};\n",
              "scope.google.colab._files = {\n",
              "  _uploadFiles,\n",
              "  _uploadFilesContinue,\n",
              "};\n",
              "})(self);\n",
              "</script> "
            ]
          },
          "metadata": {}
        },
        {
          "output_type": "stream",
          "name": "stdout",
          "text": [
            "Saving kaggle.json to kaggle.json\n"
          ]
        },
        {
          "output_type": "execute_result",
          "data": {
            "text/plain": [
              "{'kaggle.json': b'{\"username\":\"jaypaschals\",\"key\":\"33f95823617a50f4a9e6be0756ad7e88\"}'}"
            ]
          },
          "metadata": {},
          "execution_count": 8
        }
      ],
      "source": [
        "from google.colab import files\n",
        "\n",
        "# Upload kaggle.json manually\n",
        "files.upload()\n"
      ]
    },
    {
      "cell_type": "code",
      "execution_count": 10,
      "metadata": {
        "id": "M7fpssRuL_gS"
      },
      "outputs": [],
      "source": [
        "!mkdir -p ~/.kaggle\n",
        "!mv kaggle.json ~/.kaggle/\n",
        "!chmod 600 ~/.kaggle/kaggle.json  # Set correct permissions\n"
      ]
    },
    {
      "cell_type": "code",
      "execution_count": 11,
      "metadata": {
        "colab": {
          "base_uri": "https://localhost:8080/"
        },
        "id": "f56XHommMOdD",
        "outputId": "64b11677-cffd-4f8c-a7aa-14c9c665240c"
      },
      "outputs": [
        {
          "output_type": "stream",
          "name": "stdout",
          "text": [
            "Dataset URL: https://www.kaggle.com/datasets/shivamparab/amazon-electronics-reviews\n",
            "License(s): copyright-authors\n",
            "Dataset saved to: /content/drive/MyDrive/Projects/Amazon_Reviews\n"
          ]
        }
      ],
      "source": [
        "# Define Google Drive directory\n",
        "drive_path = \"/content/drive/MyDrive/Projects/Amazon_Reviews\"\n",
        "\n",
        "# Create directory if it doesn't exist\n",
        "import os\n",
        "os.makedirs(drive_path, exist_ok=True)\n",
        "\n",
        "# Download dataset directly to Google Drive\n",
        "!kaggle datasets download -d shivamparab/amazon-electronics-reviews -p \"{drive_path}\" --unzip\n",
        "\n",
        "print(f\"Dataset saved to: {drive_path}\")\n"
      ]
    },
    {
      "cell_type": "code",
      "execution_count": 4,
      "metadata": {
        "colab": {
          "base_uri": "https://localhost:8080/",
          "height": 293
        },
        "id": "N1INuaQi_AT-",
        "outputId": "6c50a8f4-f302-4313-e797-e34f1f1e5179"
      },
      "outputs": [
        {
          "output_type": "execute_result",
          "data": {
            "text/plain": [
              "       reviewerID        asin              reviewerName   helpful  \\\n",
              "0   AO94DHGC771SJ  0528881469                   amazdnu    [0, 0]   \n",
              "1   AMO214LNFCEI4  0528881469           Amazon Customer  [12, 15]   \n",
              "2  A3N7T0DY83Y4IG  0528881469             C. A. Freeman  [43, 45]   \n",
              "3  A1H8PY3QHMQQA0  0528881469  Dave M. Shaw \"mack dave\"   [9, 10]   \n",
              "4  A24EV6RXELQZ63  0528881469               Wayne Smith    [0, 0]   \n",
              "\n",
              "                                          reviewText  overall  \\\n",
              "0  We got this GPS for my husband who is an (OTR)...        5   \n",
              "1  I'm a professional OTR truck driver, and I bou...        1   \n",
              "2  Well, what can I say.  I've had this unit in m...        3   \n",
              "3  Not going to write a long review, even thought...        2   \n",
              "4  I've had mine for a year and here's what we go...        1   \n",
              "\n",
              "                                  summary  unixReviewTime   reviewTime  \n",
              "0                         Gotta have GPS!      1370131200   06 2, 2013  \n",
              "1                       Very Disappointed      1290643200  11 25, 2010  \n",
              "2                          1st impression      1283990400   09 9, 2010  \n",
              "3                 Great grafics, POOR GPS      1290556800  11 24, 2010  \n",
              "4  Major issues, only excuses for support      1317254400  09 29, 2011  "
            ],
            "text/html": [
              "\n",
              "  <div id=\"df-192ffd03-ec06-4b55-8012-6ca1b16a59bb\" class=\"colab-df-container\">\n",
              "    <div>\n",
              "<style scoped>\n",
              "    .dataframe tbody tr th:only-of-type {\n",
              "        vertical-align: middle;\n",
              "    }\n",
              "\n",
              "    .dataframe tbody tr th {\n",
              "        vertical-align: top;\n",
              "    }\n",
              "\n",
              "    .dataframe thead th {\n",
              "        text-align: right;\n",
              "    }\n",
              "</style>\n",
              "<table border=\"1\" class=\"dataframe\">\n",
              "  <thead>\n",
              "    <tr style=\"text-align: right;\">\n",
              "      <th></th>\n",
              "      <th>reviewerID</th>\n",
              "      <th>asin</th>\n",
              "      <th>reviewerName</th>\n",
              "      <th>helpful</th>\n",
              "      <th>reviewText</th>\n",
              "      <th>overall</th>\n",
              "      <th>summary</th>\n",
              "      <th>unixReviewTime</th>\n",
              "      <th>reviewTime</th>\n",
              "    </tr>\n",
              "  </thead>\n",
              "  <tbody>\n",
              "    <tr>\n",
              "      <th>0</th>\n",
              "      <td>AO94DHGC771SJ</td>\n",
              "      <td>0528881469</td>\n",
              "      <td>amazdnu</td>\n",
              "      <td>[0, 0]</td>\n",
              "      <td>We got this GPS for my husband who is an (OTR)...</td>\n",
              "      <td>5</td>\n",
              "      <td>Gotta have GPS!</td>\n",
              "      <td>1370131200</td>\n",
              "      <td>06 2, 2013</td>\n",
              "    </tr>\n",
              "    <tr>\n",
              "      <th>1</th>\n",
              "      <td>AMO214LNFCEI4</td>\n",
              "      <td>0528881469</td>\n",
              "      <td>Amazon Customer</td>\n",
              "      <td>[12, 15]</td>\n",
              "      <td>I'm a professional OTR truck driver, and I bou...</td>\n",
              "      <td>1</td>\n",
              "      <td>Very Disappointed</td>\n",
              "      <td>1290643200</td>\n",
              "      <td>11 25, 2010</td>\n",
              "    </tr>\n",
              "    <tr>\n",
              "      <th>2</th>\n",
              "      <td>A3N7T0DY83Y4IG</td>\n",
              "      <td>0528881469</td>\n",
              "      <td>C. A. Freeman</td>\n",
              "      <td>[43, 45]</td>\n",
              "      <td>Well, what can I say.  I've had this unit in m...</td>\n",
              "      <td>3</td>\n",
              "      <td>1st impression</td>\n",
              "      <td>1283990400</td>\n",
              "      <td>09 9, 2010</td>\n",
              "    </tr>\n",
              "    <tr>\n",
              "      <th>3</th>\n",
              "      <td>A1H8PY3QHMQQA0</td>\n",
              "      <td>0528881469</td>\n",
              "      <td>Dave M. Shaw \"mack dave\"</td>\n",
              "      <td>[9, 10]</td>\n",
              "      <td>Not going to write a long review, even thought...</td>\n",
              "      <td>2</td>\n",
              "      <td>Great grafics, POOR GPS</td>\n",
              "      <td>1290556800</td>\n",
              "      <td>11 24, 2010</td>\n",
              "    </tr>\n",
              "    <tr>\n",
              "      <th>4</th>\n",
              "      <td>A24EV6RXELQZ63</td>\n",
              "      <td>0528881469</td>\n",
              "      <td>Wayne Smith</td>\n",
              "      <td>[0, 0]</td>\n",
              "      <td>I've had mine for a year and here's what we go...</td>\n",
              "      <td>1</td>\n",
              "      <td>Major issues, only excuses for support</td>\n",
              "      <td>1317254400</td>\n",
              "      <td>09 29, 2011</td>\n",
              "    </tr>\n",
              "  </tbody>\n",
              "</table>\n",
              "</div>\n",
              "    <div class=\"colab-df-buttons\">\n",
              "\n",
              "  <div class=\"colab-df-container\">\n",
              "    <button class=\"colab-df-convert\" onclick=\"convertToInteractive('df-192ffd03-ec06-4b55-8012-6ca1b16a59bb')\"\n",
              "            title=\"Convert this dataframe to an interactive table.\"\n",
              "            style=\"display:none;\">\n",
              "\n",
              "  <svg xmlns=\"http://www.w3.org/2000/svg\" height=\"24px\" viewBox=\"0 -960 960 960\">\n",
              "    <path d=\"M120-120v-720h720v720H120Zm60-500h600v-160H180v160Zm220 220h160v-160H400v160Zm0 220h160v-160H400v160ZM180-400h160v-160H180v160Zm440 0h160v-160H620v160ZM180-180h160v-160H180v160Zm440 0h160v-160H620v160Z\"/>\n",
              "  </svg>\n",
              "    </button>\n",
              "\n",
              "  <style>\n",
              "    .colab-df-container {\n",
              "      display:flex;\n",
              "      gap: 12px;\n",
              "    }\n",
              "\n",
              "    .colab-df-convert {\n",
              "      background-color: #E8F0FE;\n",
              "      border: none;\n",
              "      border-radius: 50%;\n",
              "      cursor: pointer;\n",
              "      display: none;\n",
              "      fill: #1967D2;\n",
              "      height: 32px;\n",
              "      padding: 0 0 0 0;\n",
              "      width: 32px;\n",
              "    }\n",
              "\n",
              "    .colab-df-convert:hover {\n",
              "      background-color: #E2EBFA;\n",
              "      box-shadow: 0px 1px 2px rgba(60, 64, 67, 0.3), 0px 1px 3px 1px rgba(60, 64, 67, 0.15);\n",
              "      fill: #174EA6;\n",
              "    }\n",
              "\n",
              "    .colab-df-buttons div {\n",
              "      margin-bottom: 4px;\n",
              "    }\n",
              "\n",
              "    [theme=dark] .colab-df-convert {\n",
              "      background-color: #3B4455;\n",
              "      fill: #D2E3FC;\n",
              "    }\n",
              "\n",
              "    [theme=dark] .colab-df-convert:hover {\n",
              "      background-color: #434B5C;\n",
              "      box-shadow: 0px 1px 3px 1px rgba(0, 0, 0, 0.15);\n",
              "      filter: drop-shadow(0px 1px 2px rgba(0, 0, 0, 0.3));\n",
              "      fill: #FFFFFF;\n",
              "    }\n",
              "  </style>\n",
              "\n",
              "    <script>\n",
              "      const buttonEl =\n",
              "        document.querySelector('#df-192ffd03-ec06-4b55-8012-6ca1b16a59bb button.colab-df-convert');\n",
              "      buttonEl.style.display =\n",
              "        google.colab.kernel.accessAllowed ? 'block' : 'none';\n",
              "\n",
              "      async function convertToInteractive(key) {\n",
              "        const element = document.querySelector('#df-192ffd03-ec06-4b55-8012-6ca1b16a59bb');\n",
              "        const dataTable =\n",
              "          await google.colab.kernel.invokeFunction('convertToInteractive',\n",
              "                                                    [key], {});\n",
              "        if (!dataTable) return;\n",
              "\n",
              "        const docLinkHtml = 'Like what you see? Visit the ' +\n",
              "          '<a target=\"_blank\" href=https://colab.research.google.com/notebooks/data_table.ipynb>data table notebook</a>'\n",
              "          + ' to learn more about interactive tables.';\n",
              "        element.innerHTML = '';\n",
              "        dataTable['output_type'] = 'display_data';\n",
              "        await google.colab.output.renderOutput(dataTable, element);\n",
              "        const docLink = document.createElement('div');\n",
              "        docLink.innerHTML = docLinkHtml;\n",
              "        element.appendChild(docLink);\n",
              "      }\n",
              "    </script>\n",
              "  </div>\n",
              "\n",
              "\n",
              "<div id=\"df-a487c9de-c198-4c80-811a-dce07b6a40e6\">\n",
              "  <button class=\"colab-df-quickchart\" onclick=\"quickchart('df-a487c9de-c198-4c80-811a-dce07b6a40e6')\"\n",
              "            title=\"Suggest charts\"\n",
              "            style=\"display:none;\">\n",
              "\n",
              "<svg xmlns=\"http://www.w3.org/2000/svg\" height=\"24px\"viewBox=\"0 0 24 24\"\n",
              "     width=\"24px\">\n",
              "    <g>\n",
              "        <path d=\"M19 3H5c-1.1 0-2 .9-2 2v14c0 1.1.9 2 2 2h14c1.1 0 2-.9 2-2V5c0-1.1-.9-2-2-2zM9 17H7v-7h2v7zm4 0h-2V7h2v10zm4 0h-2v-4h2v4z\"/>\n",
              "    </g>\n",
              "</svg>\n",
              "  </button>\n",
              "\n",
              "<style>\n",
              "  .colab-df-quickchart {\n",
              "      --bg-color: #E8F0FE;\n",
              "      --fill-color: #1967D2;\n",
              "      --hover-bg-color: #E2EBFA;\n",
              "      --hover-fill-color: #174EA6;\n",
              "      --disabled-fill-color: #AAA;\n",
              "      --disabled-bg-color: #DDD;\n",
              "  }\n",
              "\n",
              "  [theme=dark] .colab-df-quickchart {\n",
              "      --bg-color: #3B4455;\n",
              "      --fill-color: #D2E3FC;\n",
              "      --hover-bg-color: #434B5C;\n",
              "      --hover-fill-color: #FFFFFF;\n",
              "      --disabled-bg-color: #3B4455;\n",
              "      --disabled-fill-color: #666;\n",
              "  }\n",
              "\n",
              "  .colab-df-quickchart {\n",
              "    background-color: var(--bg-color);\n",
              "    border: none;\n",
              "    border-radius: 50%;\n",
              "    cursor: pointer;\n",
              "    display: none;\n",
              "    fill: var(--fill-color);\n",
              "    height: 32px;\n",
              "    padding: 0;\n",
              "    width: 32px;\n",
              "  }\n",
              "\n",
              "  .colab-df-quickchart:hover {\n",
              "    background-color: var(--hover-bg-color);\n",
              "    box-shadow: 0 1px 2px rgba(60, 64, 67, 0.3), 0 1px 3px 1px rgba(60, 64, 67, 0.15);\n",
              "    fill: var(--button-hover-fill-color);\n",
              "  }\n",
              "\n",
              "  .colab-df-quickchart-complete:disabled,\n",
              "  .colab-df-quickchart-complete:disabled:hover {\n",
              "    background-color: var(--disabled-bg-color);\n",
              "    fill: var(--disabled-fill-color);\n",
              "    box-shadow: none;\n",
              "  }\n",
              "\n",
              "  .colab-df-spinner {\n",
              "    border: 2px solid var(--fill-color);\n",
              "    border-color: transparent;\n",
              "    border-bottom-color: var(--fill-color);\n",
              "    animation:\n",
              "      spin 1s steps(1) infinite;\n",
              "  }\n",
              "\n",
              "  @keyframes spin {\n",
              "    0% {\n",
              "      border-color: transparent;\n",
              "      border-bottom-color: var(--fill-color);\n",
              "      border-left-color: var(--fill-color);\n",
              "    }\n",
              "    20% {\n",
              "      border-color: transparent;\n",
              "      border-left-color: var(--fill-color);\n",
              "      border-top-color: var(--fill-color);\n",
              "    }\n",
              "    30% {\n",
              "      border-color: transparent;\n",
              "      border-left-color: var(--fill-color);\n",
              "      border-top-color: var(--fill-color);\n",
              "      border-right-color: var(--fill-color);\n",
              "    }\n",
              "    40% {\n",
              "      border-color: transparent;\n",
              "      border-right-color: var(--fill-color);\n",
              "      border-top-color: var(--fill-color);\n",
              "    }\n",
              "    60% {\n",
              "      border-color: transparent;\n",
              "      border-right-color: var(--fill-color);\n",
              "    }\n",
              "    80% {\n",
              "      border-color: transparent;\n",
              "      border-right-color: var(--fill-color);\n",
              "      border-bottom-color: var(--fill-color);\n",
              "    }\n",
              "    90% {\n",
              "      border-color: transparent;\n",
              "      border-bottom-color: var(--fill-color);\n",
              "    }\n",
              "  }\n",
              "</style>\n",
              "\n",
              "  <script>\n",
              "    async function quickchart(key) {\n",
              "      const quickchartButtonEl =\n",
              "        document.querySelector('#' + key + ' button');\n",
              "      quickchartButtonEl.disabled = true;  // To prevent multiple clicks.\n",
              "      quickchartButtonEl.classList.add('colab-df-spinner');\n",
              "      try {\n",
              "        const charts = await google.colab.kernel.invokeFunction(\n",
              "            'suggestCharts', [key], {});\n",
              "      } catch (error) {\n",
              "        console.error('Error during call to suggestCharts:', error);\n",
              "      }\n",
              "      quickchartButtonEl.classList.remove('colab-df-spinner');\n",
              "      quickchartButtonEl.classList.add('colab-df-quickchart-complete');\n",
              "    }\n",
              "    (() => {\n",
              "      let quickchartButtonEl =\n",
              "        document.querySelector('#df-a487c9de-c198-4c80-811a-dce07b6a40e6 button');\n",
              "      quickchartButtonEl.style.display =\n",
              "        google.colab.kernel.accessAllowed ? 'block' : 'none';\n",
              "    })();\n",
              "  </script>\n",
              "</div>\n",
              "\n",
              "    </div>\n",
              "  </div>\n"
            ],
            "application/vnd.google.colaboratory.intrinsic+json": {
              "type": "dataframe",
              "variable_name": "df"
            }
          },
          "metadata": {},
          "execution_count": 4
        }
      ],
      "source": [
        "import pandas as pd\n",
        "\n",
        "# Path to your dataset in Google Drive\n",
        "drive_path = '/content/drive/MyDrive/Projects/Amazon_Reviews/Electronics_5.json'\n",
        "\n",
        "# Load the JSON dataset into a pandas DataFrame, specifying lines=True\n",
        "df = pd.read_json(drive_path, lines=True) # Added lines=True to handle line-delimited JSON\n",
        "\n",
        "# Display the first few rows of the dataset\n",
        "df.head()"
      ]
    },
    {
      "cell_type": "markdown",
      "metadata": {
        "id": "0qn-7ylXTLZf"
      },
      "source": [
        "### ✅ **3. Exploratory Data Analysis (EDA)**\n",
        "- Distribution of ratings\n",
        "- Most reviewed products\n",
        "- Most active reviewers\n",
        "\n",
        "\n",
        "To perform Exploratory Data Analysis (EDA) on your dataset, here's how you can achieve the following tasks:\n",
        "\n",
        "**1. Distribution of Ratings**\n",
        "\n",
        "We can visualize how the ratings are distributed across all the reviews in the dataset. This will help you understand the frequency of each rating (e.g., how many 1-star, 2-star, etc. reviews there are)."
      ]
    },
    {
      "cell_type": "code",
      "execution_count": 5,
      "metadata": {
        "colab": {
          "base_uri": "https://localhost:8080/",
          "height": 564
        },
        "id": "OwSroIDA0HLm",
        "outputId": "7f93a08f-72c4-47ea-dd27-b39b95a7bb4f"
      },
      "outputs": [
        {
          "output_type": "display_data",
          "data": {
            "text/plain": [
              "<Figure size 1000x600 with 1 Axes>"
            ],
            "image/png": "[encoded data removed]"
          },
          "metadata": {}
        }
      ],
      "source": [
        "# 1. Distribution of Ratings (Improved with Histogram)\n",
        "plt.figure(figsize=(10,6))\n",
        "sns.histplot(df['overall'], bins=5, kde=False, color='purple')\n",
        "plt.title('Distribution of Ratings')\n",
        "plt.xlabel('Rating')\n",
        "plt.ylabel('Frequency')\n",
        "plt.show()\n",
        "\n",
        "\n"
      ]
    },
    {
      "cell_type": "markdown",
      "metadata": {
        "id": "AGOpNzm30fel"
      },
      "source": [
        "**2. Most Reviewed Products**\n",
        "\n",
        "Identifying the most reviewed products gives you insights into which products are popular or being discussed more frequently by users.\n"
      ]
    },
    {
      "cell_type": "code",
      "execution_count": 6,
      "metadata": {
        "colab": {
          "base_uri": "https://localhost:8080/",
          "height": 737
        },
        "id": "8oNZ9hGv0SyX",
        "outputId": "c9b223ed-206f-472e-b451-fcd4c2cce955"
      },
      "outputs": [
        {
          "output_type": "stream",
          "name": "stderr",
          "text": [
            "<ipython-input-6-f5dd5c2805f7>:4: FutureWarning: \n",
            "\n",
            "Passing `palette` without assigning `hue` is deprecated and will be removed in v0.14.0. Assign the `x` variable to `hue` and set `legend=False` for the same effect.\n",
            "\n",
            "  sns.barplot(x=top_products.index, y=top_products.values, palette='Blues_d')\n"
          ]
        },
        {
          "output_type": "display_data",
          "data": {
            "text/plain": [
              "<Figure size 1000x600 with 1 Axes>"
            ],
            "image/png": "[encoded data removed]"
          },
          "metadata": {}
        }
      ],
      "source": [
        "# 2. Most Reviewed Products (With product names)\n",
        "top_products = df.groupby('asin')['reviewerID'].count().sort_values(ascending=False).head(10)\n",
        "plt.figure(figsize=(10,6))\n",
        "sns.barplot(x=top_products.index, y=top_products.values, palette='Blues_d')\n",
        "plt.title('Most Reviewed Products')\n",
        "plt.xlabel('Product ID')\n",
        "plt.ylabel('Number of Reviews')\n",
        "plt.xticks(rotation=45)\n",
        "plt.show()\n",
        "\n",
        "\n"
      ]
    },
    {
      "cell_type": "markdown",
      "metadata": {
        "id": "fevpuR5l0izf"
      },
      "source": [
        "\n",
        "**3. Most Active Reviewers**\n",
        "\n",
        "You can analyze the users who have written the most reviews, which can help identify highly engaged or influential reviewers."
      ]
    },
    {
      "cell_type": "code",
      "execution_count": 7,
      "metadata": {
        "colab": {
          "base_uri": "https://localhost:8080/",
          "height": 764
        },
        "id": "ZeBH3KDU0UpM",
        "outputId": "57404e08-8fc4-4507-85a6-860e68ab1d51"
      },
      "outputs": [
        {
          "output_type": "stream",
          "name": "stderr",
          "text": [
            "<ipython-input-7-d6ec6fa26c39>:5: FutureWarning: \n",
            "\n",
            "Passing `palette` without assigning `hue` is deprecated and will be removed in v0.14.0. Assign the `x` variable to `hue` and set `legend=False` for the same effect.\n",
            "\n",
            "  sns.barplot(x=top_reviewers.index, y=top_reviewers.values, palette='Reds_d')\n"
          ]
        },
        {
          "output_type": "display_data",
          "data": {
            "text/plain": [
              "<Figure size 1000x600 with 1 Axes>"
            ],
            "image/png": "[encoded data removed]"
          },
          "metadata": {}
        }
      ],
      "source": [
        "\n",
        "# 3. Most Active Reviewers\n",
        "\n",
        "top_reviewers = df['reviewerID'].value_counts().head(10)  # Get top 10 most active reviewers\n",
        "plt.figure(figsize=(10,6))\n",
        "sns.barplot(x=top_reviewers.index, y=top_reviewers.values, palette='Reds_d')\n",
        "plt.title('Most Active Reviewers')\n",
        "plt.xlabel('User ID')\n",
        "plt.ylabel('Number of Reviews')\n",
        "plt.xticks(rotation=45)\n",
        "plt.show()\n",
        "\n"
      ]
    },
    {
      "cell_type": "markdown",
      "metadata": {
        "id": "Dzt4ms-lXo1M"
      },
      "source": [
        "Next, we proceed to load the data by putting the data into a Pandas DataFrame, and obtaining some basic information about it."
      ]
    },
    {
      "cell_type": "code",
      "execution_count": 8,
      "metadata": {
        "colab": {
          "base_uri": "https://localhost:8080/"
        },
        "id": "D8DQaolQI7ag",
        "outputId": "fb65abe1-bfc6-4da6-f7a2-2b933cacac21"
      },
      "outputs": [
        {
          "output_type": "stream",
          "name": "stdout",
          "text": [
            "       reviewerID        asin              reviewerName   helpful  \\\n",
            "0   AO94DHGC771SJ  0528881469                   amazdnu    [0, 0]   \n",
            "1   AMO214LNFCEI4  0528881469           Amazon Customer  [12, 15]   \n",
            "2  A3N7T0DY83Y4IG  0528881469             C. A. Freeman  [43, 45]   \n",
            "3  A1H8PY3QHMQQA0  0528881469  Dave M. Shaw \"mack dave\"   [9, 10]   \n",
            "4  A24EV6RXELQZ63  0528881469               Wayne Smith    [0, 0]   \n",
            "\n",
            "                                          reviewText  overall  \\\n",
            "0  We got this GPS for my husband who is an (OTR)...        5   \n",
            "1  I'm a professional OTR truck driver, and I bou...        1   \n",
            "2  Well, what can I say.  I've had this unit in m...        3   \n",
            "3  Not going to write a long review, even thought...        2   \n",
            "4  I've had mine for a year and here's what we go...        1   \n",
            "\n",
            "                                  summary  unixReviewTime   reviewTime  \n",
            "0                         Gotta have GPS!      1370131200   06 2, 2013  \n",
            "1                       Very Disappointed      1290643200  11 25, 2010  \n",
            "2                          1st impression      1283990400   09 9, 2010  \n",
            "3                 Great grafics, POOR GPS      1290556800  11 24, 2010  \n",
            "4  Major issues, only excuses for support      1317254400  09 29, 2011  \n",
            "Index(['reviewerID', 'asin', 'reviewerName', 'helpful', 'reviewText',\n",
            "       'overall', 'summary', 'unixReviewTime', 'reviewTime'],\n",
            "      dtype='object')\n",
            "Dataset shape: (1689188, 9)\n",
            "Number of unique users: 192403\n",
            "Number of unique products: 63001\n",
            "Range of ratings: 1 to 5\n"
          ]
        }
      ],
      "source": [
        "import pandas as pd\n",
        "\n",
        "# Display first 5 rows\n",
        "print(df.head())\n",
        "\n",
        "# Display column names to check available features\n",
        "print(df.columns)\n",
        "\n",
        "# Display dataset information\n",
        "print(f\"Dataset shape: {df.shape}\")\n",
        "print(f\"Number of unique users: {df['reviewerID'].nunique()}\")\n",
        "print(f\"Number of unique products: {df['asin'].nunique()}\")\n",
        "print(f\"Range of ratings: {df['overall'].min()} to {df['overall'].max()}\")"
      ]
    },
    {
      "cell_type": "markdown",
      "metadata": {
        "id": "87jQqi8AS8gU"
      },
      "source": [
        "---\n",
        "\n",
        "### The Dataset is Loaded! 🎉 Let's Explore the Columns:\n",
        "\n",
        "#### **Understanding the Data**\n",
        "| Column           | Description |\n",
        "|------------------|-------------|\n",
        "| `reviewerID`     | Unique identifier for the reviewer |\n",
        "| `asin`           | Product ID (Amazon Standard Identification Number) |\n",
        "| `reviewerName`   | Name of the reviewer |\n",
        "| `helpful`        | List `[x, y]` where `x` is the number of people who found the review helpful, and `y` is the total number of votes |\n",
        "| `reviewText`     | Full review text |\n",
        "| `overall`        | Star rating given by the reviewer (1 to 5) |\n",
        "| `summary`        | Short summary of the review |\n",
        "| `unixReviewTime` | Timestamp of when the review was posted |\n",
        "| `reviewTime`     | Human-readable date of the review |\n",
        "\n",
        "---\n",
        "\n",
        "### **Dataset Overview**  \n",
        "The **Amazon Electronics Reviews dataset** consists of:  \n",
        "\n",
        "✅ **1,689,188** reviews  \n",
        "✅ **192,403** unique users  \n",
        "✅ **63,001** unique products  \n",
        "✅ Ratings range from **1 to 5**  \n",
        "\n",
        "---\n",
        "\n",
        "Now that we've loaded and explored the dataset, we can proceed with the data preparation steps required for matrix factorization.\n",
        "\n",
        "---\n",
        "\n",
        "### **Step 1: Select Relevant Columns**\n",
        "\n",
        "For building a recommendation system, we only need a few key pieces of information:\n",
        "\n",
        "- **User IDs**: The unique identifier for each user.\n",
        "- **Product IDs**: The unique identifier for each product (e.g., the **asin**).\n",
        "- **Ratings**: The rating given by a user for a product.\n",
        "\n",
        "In this step, we will:\n",
        "\n",
        "1. Keep only the essential columns: `reviewerID` (user), `asin` (product), and `overall` (rating).\n",
        "2. Convert the user IDs and product IDs into numeric values, as the Surprise library requires numeric IDs for both users and products.\n",
        "3. Handle any missing values by dropping them, if necessary.\n",
        "4. Convert the filtered data into the format expected by Surprise, making it ready for matrix factorization and the SVD model.\n",
        "\n",
        "---\n"
      ]
    },
    {
      "cell_type": "code",
      "execution_count": 9,
      "metadata": {
        "colab": {
          "base_uri": "https://localhost:8080/"
        },
        "id": "wy0MnQSwzHG1",
        "outputId": "dc4e53fd-2797-4c36-f074-0eeec12019a9"
      },
      "outputs": [
        {
          "output_type": "stream",
          "name": "stdout",
          "text": [
            "Missing values:\n",
            " user_id    0\n",
            "item_id    0\n",
            "rating     0\n",
            "dtype: int64\n",
            "Processed Data Sample:\n",
            "   user_id  item_id  rating\n",
            "0        0        0       5\n",
            "1        1        0       1\n",
            "2        2        0       3\n",
            "3        3        0       2\n",
            "4        4        0       1\n",
            "✅ Cleaned dataset saved!\n"
          ]
        }
      ],
      "source": [
        "# Create a copy of the relevant columns to avoid modifying the original DataFrame\n",
        "df_relevant = df[['reviewerID', 'asin', 'overall']].copy()\n",
        "\n",
        "# Rename columns for clarity\n",
        "df_relevant.rename(columns={'reviewerID': 'user_id', 'asin': 'item_id', 'overall': 'rating'}, inplace=True)\n",
        "\n",
        "# Check for missing values\n",
        "print(\"Missing values:\\n\", df_relevant.isnull().sum())\n",
        "\n",
        "# Drop any rows with missing values if necessary\n",
        "df_relevant.dropna(inplace=True)\n",
        "\n",
        "# Convert user IDs and product IDs to numeric values (Surprise works best with numeric IDs)\n",
        "df_relevant['user_id'] = pd.factorize(df_relevant['user_id'])[0]\n",
        "df_relevant['item_id'] = pd.factorize(df_relevant['item_id'])[0]\n",
        "\n",
        "# Display the cleaned dataset\n",
        "print(\"Processed Data Sample:\")\n",
        "print(df_relevant.head())\n",
        "\n",
        "# Save the cleaned dataset\n",
        "df_relevant.to_csv(\"/content/drive/MyDrive/Projects/Amazon_Reviews/cleaned_amazon_reviews.csv\", index=False)\n",
        "\n",
        "print(\"✅ Cleaned dataset saved!\")\n"
      ]
    },
    {
      "cell_type": "markdown",
      "metadata": {
        "id": "Ujavu5CkYtwZ"
      },
      "source": [
        "---\n",
        "\n",
        "### **Prepare the Data**\n",
        "\n",
        "The Amazon Electronics Reviews dataset, with over 1.6 million reviews, is large enough to provide a realistic example for building recommendation systems. In real-world applications, matrix factorization typically handles even larger datasets containing millions of users and products, such as movies, books, or other items.\n",
        "\n",
        "To prepare the dataset for matrix factorization, we will utilize two key classes from the Surprise library: `Dataset` and `Reader`. These classes will help us transform the dataset into a format compatible with Surprise's matrix factorization algorithms. We will then split the dataset into a training set and a test set for model evaluation.\n",
        "\n",
        "A crucial step is initializing the `Reader` object with the correct rating scale. Since ratings range from 1 to 5 stars in our dataset, we'll specify this range when creating the `Reader` object to ensure the ratings are handled correctly.\n",
        "\n",
        "Let's walk through the process of loading the dataset into Surprise's format using the `Reader` class, and then splitting the data into training and testing sets for Singular Value Decomposition (SVD).\n",
        "\n",
        "Here's a breakdown of the steps to load, prepare, and split the data for building a recommendation model:\n",
        "\n",
        "1. **Importing Necessary Libraries**:  \n",
        "   - `SVD` from Surprise: Used for Singular Value Decomposition.\n",
        "\n",
        "---\n",
        "\n"
      ]
    },
    {
      "cell_type": "code",
      "execution_count": 10,
      "metadata": {
        "colab": {
          "base_uri": "https://localhost:8080/"
        },
        "id": "YNRqw9NGB7iO",
        "outputId": "55790f81-4bed-492d-af5c-eac2428d8285"
      },
      "outputs": [
        {
          "output_type": "stream",
          "name": "stdout",
          "text": [
            "Cleaned Data Sample:\n",
            "   user_id  item_id  rating\n",
            "0        0        0       5\n",
            "1        1        0       1\n",
            "2        2        0       3\n",
            "3        3        0       2\n",
            "4        4        0       1\n"
          ]
        }
      ],
      "source": [
        "# Load the cleaned dataset (CSV file) into a DataFrame\n",
        "cleaned_dataset_path = \"/content/drive/MyDrive/Projects/Amazon_Reviews/cleaned_amazon_reviews.csv\"\n",
        "df_relevant = pd.read_csv(cleaned_dataset_path)\n",
        "\n",
        "# Display the first few rows of the cleaned dataset\n",
        "print(\"Cleaned Data Sample:\")\n",
        "print(df_relevant.head())\n"
      ]
    },
    {
      "cell_type": "markdown",
      "metadata": {
        "id": "fkzqW8FsvkJh"
      },
      "source": [
        "### **Reading and Loading**\n",
        "\n",
        "1. **Dataset and Reader from Surprise:**  \n",
        "   The `Reader` object is used to define the rating scale for the data (in this case, from 1 to 5). This is important because it tells the Surprise library what range of ratings to expect when processing the data.\n",
        "\n",
        "2. **Loading the Data:**  \n",
        "   The `Dataset.load_from_df()` method is then used to load the data into the format that Surprise can handle. It takes a Pandas DataFrame (with the columns `reviewerID`, `asin`, and `overall` in this case) and converts it into the required format for Surprise. This enables Surprise to process the data for training and prediction.\n",
        "\n",
        "---\n",
        "\n"
      ]
    },
    {
      "cell_type": "code",
      "execution_count": 11,
      "metadata": {
        "id": "FG27TgxivXDW"
      },
      "outputs": [],
      "source": [
        "# Initialize the Reader object\n",
        "reader = Reader(rating_scale=(1, 5))  # Ratings range from 1 to 5\n",
        "\n",
        "# Prepare the data in the format Surprise expects (user_id, item_id, rating)\n",
        "data = Dataset.load_from_df(df[['reviewerID', 'asin', 'overall']], reader)"
      ]
    },
    {
      "cell_type": "markdown",
      "metadata": {
        "id": "9yOEdpbHu8fg"
      },
      "source": [
        "# **Splitting the Data:**\n",
        "\n",
        "The dataset is divided into training and testing sets using the `train_test_split()` function, which helps train the model on one subset of the data and evaluate it on another.\n",
        "\n",
        "- **`train_test_split` from Surprise**: This function splits the data into two sets: one for training and one for testing.\n",
        "\n"
      ]
    },
    {
      "cell_type": "code",
      "execution_count": 12,
      "metadata": {
        "id": "d6eisR1Kt3LN"
      },
      "outputs": [],
      "source": [
        "# Split the data into a training set and a testing set\n",
        "trainset, testset = train_test_split(data, test_size=0.2)"
      ]
    },
    {
      "cell_type": "markdown",
      "metadata": {
        "id": "LBxKp3u2vBtM"
      },
      "source": [
        "---\n",
        "\n",
        "### **Training the SVD Model:**\n",
        "\n",
        "Next, we'll dive into training and evaluating our matrix factorization model using Singular Value Decomposition (SVD), a widely-used technique for collaborative filtering. The Surprise library provides an easy-to-use implementation of SVD. If you're familiar with machine learning workflows in scikit-learn, you'll find the process similar.\n",
        "\n",
        "- **Initializing and Training the Model:**  \n",
        "  We begin by initializing the SVD model, then train it using the training set with the `svd.fit()` method.\n",
        "\n",
        "- **Making Predictions:**  \n",
        "  After training, we test the model on the testing set to predict ratings for items that users haven't rated yet.\n",
        "\n",
        "- **Evaluating the Model:**  \n",
        "  Finally, we evaluate the model's performance by calculating metrics like RMSE (Root Mean Squared Error) and MAE (Mean Absolute Error), which help us assess how well the model is performing.\n",
        "\n",
        "---\n"
      ]
    },
    {
      "cell_type": "code",
      "execution_count": 13,
      "metadata": {
        "colab": {
          "base_uri": "https://localhost:8080/"
        },
        "id": "DWV0Itq7t8f9",
        "outputId": "31c90641-d5c5-40c8-f581-84fafca5b455"
      },
      "outputs": [
        {
          "output_type": "stream",
          "name": "stdout",
          "text": [
            "✅ Model trained and predictions made!\n"
          ]
        }
      ],
      "source": [
        "# Initialize the SVD model\n",
        "svd = SVD()\n",
        "\n",
        "# Train the model on the training set\n",
        "svd.fit(trainset)\n",
        "\n",
        "# Make predictions on the test set\n",
        "predictions = svd.test(testset)\n",
        "\n",
        "print(\"✅ Model trained and predictions made!\")"
      ]
    },
    {
      "cell_type": "markdown",
      "metadata": {
        "id": "CvSxqh74-oan"
      },
      "source": [
        "# **Evaluating the Model**"
      ]
    },
    {
      "cell_type": "code",
      "execution_count": 14,
      "metadata": {
        "colab": {
          "base_uri": "https://localhost:8080/"
        },
        "id": "sJedqLk841Xe",
        "outputId": "99de819f-1e0e-4650-c9f3-2b493754165e"
      },
      "outputs": [
        {
          "output_type": "stream",
          "name": "stdout",
          "text": [
            "RMSE: 1.0999\n",
            "RMSE: 1.099946724289008\n",
            "MAE:  0.8179\n",
            "MAE: 0.8178661049332042\n"
          ]
        }
      ],
      "source": [
        "# Evaluate using RMSE and MAE\n",
        "from surprise import accuracy\n",
        "\n",
        "# RMSE - Root Mean Squared Error\n",
        "rmse = accuracy.rmse(predictions)\n",
        "print(f\"RMSE: {rmse}\")\n",
        "\n",
        "# MAE - Mean Absolute Error\n",
        "mae = accuracy.mae(predictions)\n",
        "print(f\"MAE: {mae}\")\n"
      ]
    },
    {
      "cell_type": "markdown",
      "metadata": {
        "id": "EM8P0y_yDezq"
      },
      "source": [
        "---\n",
        "\n",
        "### **Model Performance Summary:**\n",
        "\n",
        "- **RMSE (Root Mean Square Error)**:\n",
        "   - **1.1020** (rounded) vs **1.1019860974342812** (precise)\n",
        "   - RMSE measures the average magnitude of the errors between predicted ratings and actual ratings. A lower RMSE value indicates better predictive accuracy. Your RMSE value is around **1.1**, which means the model's predictions are relatively close to the actual ratings, but there's still room for improvement.\n",
        "\n",
        "- **MAE (Mean Absolute Error)**:\n",
        "   - **0.8197** (rounded) vs **0.81974069521039** (precise)\n",
        "   - MAE represents the average of the absolute differences between the predicted ratings and the actual ratings. Like RMSE, a smaller MAE indicates a better fit. Your MAE is approximately **0.82**, suggesting that the model's predictions are fairly accurate, but there's still a gap to perfect accuracy.\n",
        "\n",
        "### **Overall Assessment**:\n",
        "- The model's performance is **good**, with an RMSE around **1.1** and an MAE of **0.82**. While these values suggest that the model is making fairly accurate predictions on average, there is **still some room for improvement**. The model's predictions aren't perfect yet, and tuning or exploring alternative approaches might help further reduce the error.\n",
        "\n",
        "---\n",
        "\n"
      ]
    },
    {
      "cell_type": "markdown",
      "source": [
        "**Room for Improvement:**\n",
        "\n",
        "While the model is fairly accurate, there's still some gap to perfect accuracy. Further improvements can be made by:  Trying different combinations of hyperparameters to fine-tune the model. Like Hyperparameter Tuning using the grid search CV or random search to experiment with different hyperparameters.\n",
        "\n",
        "# **Optimizing Hyperparameters**\n",
        "\n",
        "Optimizing hyperparameters helps you get the best performance out of your model by finding the right settings for its parameters. It leads to better accuracy, generalization, and efficiency, which directly improves the quality of predictions made by the recommendation system.\n",
        "\n",
        "Hyperparameter tuning is an essential step in optimizing machine learning models, including recommendation systems like the SVD algorithm. By experimenting with different values for key parameters such as `n_factors`, `n_epochs`, and `lr_all`, one can improve the model's performance, reduce errors, and achieve better predictive accuracy.\n",
        "\n",
        "Here’s a more detailed explanation of each parameter and how it can be adjusted:\n",
        "\n",
        "### Key Hyperparameters for SVD:\n",
        "1. **`n_factors`**:\n",
        "   - Represents the number of latent factors in the matrix factorization model.\n",
        "   - A higher number of factors allows the model to capture more complex patterns, but may lead to overfitting, while too few factors might underfit the data.\n",
        "   - Common values: 50, 100, 150, 200.\n",
        "\n",
        "2. **`n_epochs`**:\n",
        "   - Specifies the number of iterations (epochs) the algorithm will run to learn the latent factors.\n",
        "   - A higher number of epochs allows the model to converge more thoroughly, but can also increase training time and risk overfitting if too high.\n",
        "   - Common values: 20, 30, 50, 100.\n",
        "\n",
        "3. **`lr_all`**:\n",
        "   - The learning rate for all parameters. This controls how much the weights are adjusted after each iteration.\n",
        "   - If the learning rate is too high, the model may fail to converge. If it's too low, the model might converge too slowly or get stuck in a local minimum.\n",
        "   - Common values: 0.001, 0.005, 0.01, 0.05.\n",
        "\n",
        "By tuning these hyperparameters, the accuracy and efficiency of your recommendation model will improve and reduced the RMSE and MAE values.\n",
        "\n",
        "\n",
        "# Optimizers for Matrix Factorization:\n",
        "\n",
        "**Stochastic Gradient Descent (SGD)**:\n",
        "\n",
        "**SGD** is the most common optimizer used for matrix factorization algorithms like SVD and ALS. It iteratively adjusts the model's parameters (user and item latent factors) by minimizing a loss function, typically mean squared error (MSE) or root mean squared error (RMSE). This approach is efficient for large datasets and can be adapted with learning rate decay or momentum to improve convergence."
      ],
      "metadata": {
        "id": "A95uwb8kvaRb"
      }
    },
    {
      "cell_type": "code",
      "execution_count": 15,
      "metadata": {
        "colab": {
          "base_uri": "https://localhost:8080/"
        },
        "id": "YAS2c2l3duF7",
        "outputId": "06e425c0-997e-48d9-f6d2-8350c07eecb6"
      },
      "outputs": [
        {
          "output_type": "stream",
          "name": "stdout",
          "text": [
            "Best Parameters:  {'rmse': {'n_factors': 50, 'reg_all': 0.3, 'lr_all': 0.01}}\n",
            "Best RMSE:  {'rmse': 1.0950032434516555}\n"
          ]
        }
      ],
      "source": [
        "from surprise.model_selection import GridSearchCV\n",
        "\n",
        "# Define parameter grid\n",
        "param_grid = {\n",
        "    'n_factors': [50, 100, 150],\n",
        "    'reg_all': [0.1, 0.2, 0.3],\n",
        "    'lr_all': [0.005, 0.01, 0.02]\n",
        "}\n",
        "\n",
        "# Perform grid search\n",
        "grid_search = GridSearchCV(SVD, param_grid, measures=['rmse'], cv=3)\n",
        "grid_search.fit(data)\n",
        "\n",
        "# Get the best parameters and the corresponding RMSE\n",
        "print(\"Best Parameters: \", grid_search.best_params)\n",
        "print(\"Best RMSE: \", grid_search.best_score)\n"
      ]
    },
    {
      "cell_type": "markdown",
      "metadata": {
        "id": "LlwAgwAuDQBE"
      },
      "source": [
        "# **Cross-Validation:**\n",
        "\n",
        "Running cross-validation can give a better sense of how well the model generalizes to unseen data, potentially identifying if overfitting is an issue or if different splits of the data yield different results."
      ]
    },
    {
      "cell_type": "markdown",
      "source": [
        "I used this approach after running a grid search to tune the hyperparameters of the model. The grid search step done earlier in the workflow helps find to the best set of hyperparameters for the SVD model, such as the number of factors (n_factors), regularization (reg_all), and learning rate (lr_all).\n",
        "\n",
        "This approach takes the best hyperparameters found from the grid search and applies them to the SVD model.\n",
        "\n",
        "Why Use This:\n",
        "\n",
        "This is ideal if since I have already performed hyperparameter tuning via grid search and now wants to evaluate the model using the best parameters discovered during that search.\n",
        "\n",
        "It ensures we're using the most optimal model configuration for the predictions, leading to more accurate results in cross-validation."
      ],
      "metadata": {
        "id": "W_nI7p-3zlW6"
      }
    },
    {
      "cell_type": "code",
      "source": [
        "from surprise import SVD\n",
        "from surprise.model_selection import cross_validate\n",
        "\n",
        "# Best parameters obtained from the grid search\n",
        "best_params = {'n_factors': 50, 'reg_all': 0.3, 'lr_all': 0.01}\n",
        "\n",
        "# Initialize the SVD model with the best parameters\n",
        "svd = SVD(n_factors=best_params['n_factors'],\n",
        "          reg_all=best_params['reg_all'],\n",
        "          lr_all=best_params['lr_all'])\n",
        "\n",
        "# Perform cross-validation (let's use 5-fold cross-validation)\n",
        "results = cross_validate(svd, data, measures=['RMSE', 'MAE'], cv=5, verbose=True)\n",
        "\n",
        "# Print the cross-validation results\n",
        "print(\"Cross-validation results:\")\n",
        "print(f\"RMSE: {results['test_rmse']}\")\n",
        "print(f\"MAE: {results['test_mae']}\")\n",
        "print(f\"Mean RMSE: {results['test_rmse'].mean()}\")\n",
        "print(f\"Mean MAE: {results['test_mae'].mean()}\")\n"
      ],
      "metadata": {
        "colab": {
          "base_uri": "https://localhost:8080/"
        },
        "id": "ybJ0K8FG6X1V",
        "outputId": "7ff60ceb-b2d8-4733-823d-259da49aa5d3"
      },
      "execution_count": 16,
      "outputs": [
        {
          "output_type": "stream",
          "name": "stdout",
          "text": [
            "Evaluating RMSE, MAE of algorithm SVD on 5 split(s).\n",
            "\n",
            "                  Fold 1  Fold 2  Fold 3  Fold 4  Fold 5  Mean    Std     \n",
            "RMSE (testset)    1.0903  1.0882  1.0875  1.0906  1.0887  1.0891  0.0012  \n",
            "MAE (testset)     0.8115  0.8096  0.8099  0.8113  0.8104  0.8105  0.0007  \n",
            "Fit time          24.21   25.18   24.66   25.75   25.25   25.01   0.53    \n",
            "Test time         2.16    2.17    2.10    3.84    3.88    2.83    0.84    \n",
            "Cross-validation results:\n",
            "RMSE: [1.09033923 1.08817472 1.0875436  1.0905624  1.08865803]\n",
            "MAE: [0.81146565 0.80959991 0.80986479 0.81125065 0.81035698]\n",
            "Mean RMSE: 1.089055598550599\n",
            "Mean MAE: 0.8105075974104812\n"
          ]
        }
      ]
    },
    {
      "cell_type": "markdown",
      "source": [
        "# **Summary:**\n",
        "The SVD model performs consistently well across all folds.\n",
        "\n",
        "The mean **RMSE of 1.0891** and mean **MAE of 0.8105** show that the model's predictions are fairly accurate and close to the true ratings.\n",
        "\n",
        "The model is stable across folds, as indicated by the very low standard deviation in **RMSE (0.0012)** and **MAE (0.0007)**.\n",
        "\n",
        "The fit time and test time are reasonable, meaning the model is efficient to train and test.\n",
        "\n",
        "In simple terms, the model is doing a good job at predicting ratings, but there's always room for improvement in terms of reducing the errors further."
      ],
      "metadata": {
        "id": "o29PUhZu72Sw"
      }
    },
    {
      "cell_type": "markdown",
      "metadata": {
        "id": "0jEYSs4aruUr"
      },
      "source": [
        "### **Next Steps**:\n",
        "- **Evaluate Model Performance**: Once you have the best parameters, evaluate the model on the test set to ensure it's generalizing well.\n",
        "- **Fine-Tune Further**: If the error rate is still high, try tuning additional hyperparameters like regularization (`reg_all`), or consider using other recommendation algorithms."
      ]
    },
    {
      "cell_type": "markdown",
      "metadata": {
        "id": "clAqNVY_16zL"
      },
      "source": [
        "# **Recommend Products Based on User Input**\n",
        "Now that we have trained the model, we will create a function that takes the user’s review and rating and recommends similar products."
      ]
    },
    {
      "cell_type": "code",
      "source": [
        "from tqdm import tqdm\n",
        "\n",
        "def recommend_product(df, input_review, input_rating, user_id, svd_model, item_map=None, top_n=5, limit=500):\n",
        "    \"\"\"\n",
        "    Recommends products using collaborative filtering (SVD).\n",
        "\n",
        "    :param df: DataFrame with 'reviewerID', 'asin', 'overall'\n",
        "    :param input_review: User review (for future content-based filtering)\n",
        "    :param input_rating: Rating by user (1-5)\n",
        "    :param user_id: ID of the user\n",
        "    :param svd_model: Trained SVD model\n",
        "    :param item_map: Optional dict to map asin to product titles\n",
        "    :param top_n: Number of recommendations to return\n",
        "    :param limit: Max number of items to test (for speed)\n",
        "    \"\"\"\n",
        "    df_filtered = df[['reviewerID', 'asin', 'overall']]\n",
        "    all_item_ids = df_filtered['asin'].unique()[:limit]  # ⚡ limit for testing\n",
        "\n",
        "    recommended_items = []\n",
        "\n",
        "    print(\"⏳ Predicting ratings...\")\n",
        "\n",
        "    for item_id in tqdm(all_item_ids):\n",
        "        if item_id not in df_filtered[df_filtered['reviewerID'] == user_id]['asin'].values:\n",
        "            try:\n",
        "                pred = svd_model.predict(user_id, item_id)\n",
        "                recommended_items.append((item_id, pred.est))\n",
        "            except:\n",
        "                continue  # Skip unknown user/item\n",
        "\n",
        "    recommended_items.sort(key=lambda x: x[1], reverse=True)\n",
        "    top_recommendations = recommended_items[:top_n]\n",
        "\n",
        "    print(f\"\\n🎯 Top {top_n} Recommended Products:\")\n",
        "    for item, rating in top_recommendations:\n",
        "        name = item_map[item] if item_map and item in item_map else item\n",
        "        print(f\"🔹 {name} — Predicted Rating: {rating:.2f}\")\n"
      ],
      "metadata": {
        "id": "p8-aYDE95O7T"
      },
      "execution_count": 29,
      "outputs": []
    },
    {
      "cell_type": "code",
      "source": [
        "input_review = \"This GPS is great and easy to use\"\n",
        "input_rating = 5\n",
        "user_id = \"A1H8PY3QHMQQA0\"\n",
        "\n",
        "recommend_product(df, input_review, input_rating, user_id, svd_model=svd)\n"
      ],
      "metadata": {
        "colab": {
          "base_uri": "https://localhost:8080/"
        },
        "id": "piGmDJXbXHvy",
        "outputId": "3b31c8d1-2ca0-4256-b57e-6b1ab4569706"
      },
      "execution_count": 19,
      "outputs": [
        {
          "output_type": "stream",
          "name": "stdout",
          "text": [
            "⏳ Predicting ratings...\n"
          ]
        },
        {
          "output_type": "stream",
          "name": "stderr",
          "text": [
            "100%|██████████| 500/500 [02:03<00:00,  4.04it/s]"
          ]
        },
        {
          "output_type": "stream",
          "name": "stdout",
          "text": [
            "\n",
            "🎯 Top 5 Recommended Products:\n",
            "🔹 B00000JBUI — Predicted Rating: 4.98\n",
            "🔹 B00003G1RJ — Predicted Rating: 4.94\n",
            "🔹 B0000303I7 — Predicted Rating: 4.94\n",
            "🔹 B00004TDLD — Predicted Rating: 4.93\n",
            "🔹 B00004Y3UY — Predicted Rating: 4.88\n"
          ]
        },
        {
          "output_type": "stream",
          "name": "stderr",
          "text": [
            "\n"
          ]
        }
      ]
    },
    {
      "cell_type": "markdown",
      "source": [
        "**An Interactive form that takes input UserID, User Review and Rating to predict products:**"
      ],
      "metadata": {
        "id": "6csDKxfggoZr"
      }
    },
    {
      "cell_type": "code",
      "source": [
        "# ================================\n",
        "# STEP 1: Define the function\n",
        "# ================================\n",
        "from tqdm import tqdm\n",
        "\n",
        "def recommend_from_input(df, svd_model, item_map=None, top_n=5, limit=500):\n",
        "    \"\"\"\n",
        "    Interactive recommender function that prompts for input and displays top N product recommendations.\n",
        "    \"\"\"\n",
        "    print(\"📝 Enter your review details below:\\n\")\n",
        "\n",
        "    user_id = input(\"👤 Your User ID: \")\n",
        "    input_review = input(\"💬 Your Review: (optional) \")\n",
        "\n",
        "    while True:\n",
        "        try:\n",
        "            input_rating = float(input(\"⭐ Your Rating (1-5): \"))\n",
        "            if 1 <= input_rating <= 5:\n",
        "                break\n",
        "            else:\n",
        "                print(\"❗ Rating must be between 1 and 5.\")\n",
        "        except ValueError:\n",
        "            print(\"❗ Please enter a valid number.\")\n",
        "\n",
        "    print(\"\\n🔍 Fetching personalized recommendations...\")\n",
        "\n",
        "    df_filtered = df[['reviewerID', 'asin', 'overall']]\n",
        "    all_item_ids = df_filtered['asin'].unique()[:limit]\n",
        "\n",
        "    recommended_items = []\n",
        "\n",
        "    for item_id in tqdm(all_item_ids):\n",
        "        if item_id not in df_filtered[df_filtered['reviewerID'] == user_id]['asin'].values:\n",
        "            try:\n",
        "                pred = svd_model.predict(user_id, item_id)\n",
        "                recommended_items.append((item_id, pred.est))\n",
        "            except:\n",
        "                continue\n",
        "\n",
        "    recommended_items.sort(key=lambda x: x[1], reverse=True)\n",
        "    top_recommendations = recommended_items[:top_n]\n",
        "\n",
        "    print(f\"\\n✅ Top {top_n} Recommended Electronics for You:\\n\")\n",
        "    for i, (item, rating) in enumerate(top_recommendations, 1):\n",
        "        name = item_map.get(item, item) if item_map else item\n",
        "        print(f\"{i}. {name} — Predicted Rating: {rating:.2f}\")\n"
      ],
      "metadata": {
        "id": "vyVfryDMYZJW"
      },
      "execution_count": 22,
      "outputs": []
    },
    {
      "cell_type": "code",
      "source": [
        "# Use the first 'summary' for each 'asin' as its \"title\"\n",
        "item_map = df.drop_duplicates(subset=\"asin\")[[\"asin\", \"summary\"]].set_index(\"asin\")[\"summary\"].to_dict()\n"
      ],
      "metadata": {
        "id": "rHlJFphAY3jJ"
      },
      "execution_count": 24,
      "outputs": []
    },
    {
      "cell_type": "code",
      "source": [
        "recommend_from_input(df, svd_model=svd, item_map=item_map)\n"
      ],
      "metadata": {
        "colab": {
          "base_uri": "https://localhost:8080/"
        },
        "id": "yzqxnpedYbGz",
        "outputId": "953a3ff9-542a-41e7-bdd1-783ac648db7a"
      },
      "execution_count": 25,
      "outputs": [
        {
          "output_type": "stream",
          "name": "stdout",
          "text": [
            "📝 Enter your review details below:\n",
            "\n",
            "👤 Your User ID: AMO214LNFCEI4\n",
            "💬 Your Review: (optional)  Well, what can I say is I didnt get what I wanted\n",
            "⭐ Your Rating (1-5): 2\n",
            "\n",
            "🔍 Fetching personalized recommendations...\n"
          ]
        },
        {
          "output_type": "stream",
          "name": "stderr",
          "text": [
            "100%|██████████| 500/500 [01:43<00:00,  4.84it/s]"
          ]
        },
        {
          "output_type": "stream",
          "name": "stdout",
          "text": [
            "\n",
            "✅ Top 5 Recommended Electronics for You:\n",
            "\n",
            "1. faultless — Predicted Rating: 4.15\n",
            "2. simply amazing and flat out baffling why it is no longer made — Predicted Rating: 4.14\n",
            "3. No fuss — Predicted Rating: 4.09\n",
            "4. Xmas Present for 4 yr old Twin boys — Predicted Rating: 4.07\n",
            "5. great first gen 3MP camera, but it is old now... — Predicted Rating: 4.05\n"
          ]
        },
        {
          "output_type": "stream",
          "name": "stderr",
          "text": [
            "\n"
          ]
        }
      ]
    },
    {
      "cell_type": "markdown",
      "source": [
        "## We can simplify the process to only input a review and rating, and then get product recommendations without needing to worry about the user ID\n",
        "\n",
        "**Here's what we can do:**\n",
        "\n",
        "1. **Input**: User provides a review and rating.\n",
        "2. **Recommendation**: Based on the provided rating and review, It will predict products the user might like, using collaborative filtering.\n",
        "3. **Output**: Recommend top items along with their product IDs (`asin`) and names.\n",
        "\n",
        "**Plan:**\n",
        "- **Step 1**: Take review and rating as input from the user.\n",
        "- **Step 2**: Predict ratings for all products and recommend the ones with the highest predicted ratings.\n",
        "- **Step 3**: Return the recommended items along with their IDs.\n",
        "\n",
        "Here's an updated function:\n",
        "\n",
        "\n",
        "### How This Works:\n",
        "\n",
        "1. **User Input**: You input a review (`input_review`) and a rating (`input_rating`).\n",
        "2. **Random User ID**: The Model selects a random `user_id` from the dataset since it's not needed for prediction.\n",
        "\n",
        "3. **Product Prediction**: It will predict ratings for products the user has not rated yet, using the SVD model.\n",
        "4. **Top Recommendations**: It then recommends the top 5 products based on the predicted ratings.\n",
        "5. **Output**: Displays the recommended products with product IDs (`asin`), product names (from `item_map`), and predicted ratings.\n",
        "\n",
        "### Example Output:\n",
        "```\n",
        "User ID: AO94DHGC771SJ (Auto-selected for recommendation)\n",
        "Top Recommended Products for User AO94DHGC771SJ (based on collaborative filtering):\n",
        "Product ID: 0528881469, Product Name: GPS Unit, Predicted Rating: 4.89\n",
        "Product ID: B08XG9HD88, Product Name: Wireless Mouse, Predicted Rating: 4.72\n",
        "Product ID: B07Y5MZ3Y4, Product Name: Bluetooth Speaker, Predicted Rating: 4.65\n",
        "...\n",
        "```\n"
      ],
      "metadata": {
        "id": "ql6p9THahJxL"
      }
    },
    {
      "cell_type": "code",
      "source": [
        "import random\n",
        "import pandas as pd\n",
        "from surprise import SVD, Dataset, Reader\n",
        "\n",
        "# Assuming your dataset is 'df' and item_map is a dictionary mapping asin to product names\n",
        "\n",
        "def recommend_from_input(df, input_review, input_rating, svd_model, item_map):\n",
        "    \"\"\"\n",
        "    Recommends products based on the input review and rating using collaborative filtering.\n",
        "\n",
        "    :param df: A pandas DataFrame containing user_id, item_id, and rating columns\n",
        "    :param input_review: The review input from the user\n",
        "    :param input_rating: The rating input from the user (between 1-5)\n",
        "    :param svd_model: The pre-trained SVD model\n",
        "    :param item_map: A dictionary mapping item ids (asin) to product names\n",
        "    :return: Recommended products based on collaborative filtering\n",
        "    \"\"\"\n",
        "\n",
        "    # Step 1: Automatically select a random user ID (to simulate a user)\n",
        "    user_id = random.choice(df['reviewerID'].unique())\n",
        "    print(f\"User ID: {user_id} (Auto-selected for recommendation)\")\n",
        "\n",
        "    # Step 2: Filter the dataset to avoid recommending the same product\n",
        "    df_filtered = df[['reviewerID', 'asin', 'overall']]\n",
        "\n",
        "    # Step 3: Create a list of all unique product ids\n",
        "    all_item_ids = df_filtered['asin'].unique()\n",
        "\n",
        "    # Step 4: Create a list to hold recommended products\n",
        "    recommended_items = []\n",
        "\n",
        "    # Step 5: Loop through all items and predict ratings for the user\n",
        "    for item_id in all_item_ids:\n",
        "        # Skip items that the user has already rated\n",
        "        if item_id not in df_filtered[df_filtered['reviewerID'] == user_id]['asin'].values:\n",
        "            try:\n",
        "                # Predict rating for the current item\n",
        "                predicted_rating = svd_model.predict(user_id, item_id)\n",
        "                recommended_items.append((item_id, predicted_rating.est))\n",
        "            except Exception as e:\n",
        "                print(f\"Error predicting for {item_id}: {e}\")\n",
        "                continue  # Skip if prediction fails\n",
        "\n",
        "    # Step 6: Sort the recommended items by predicted rating (highest first)\n",
        "    recommended_items.sort(key=lambda x: x[1], reverse=True)\n",
        "\n",
        "    # Step 7: Get top 5 recommendations\n",
        "    top_recommendations = recommended_items[:5]\n",
        "\n",
        "    # Step 8: Output the top 5 recommended products\n",
        "    print(f\"Top Recommended Products for User {user_id} (based on collaborative filtering):\")\n",
        "    for item, rating in top_recommendations:\n",
        "        product_name = item_map.get(item, 'Unknown Product')  # Map to product name\n",
        "        print(f\"Product ID: {item}, Product Name: {product_name}, Predicted Rating: {rating:.2f}\")\n",
        "\n",
        "\n",
        "# Example usage:\n",
        "# Assuming you have your SVD model trained and item_map ready\n",
        "input_review = \"This GPS is great and easy to use\"\n",
        "input_rating = 5  # Example rating from the user\n",
        "\n",
        "# Call the function (make sure svd_model and item_map are defined)\n",
        "recommend_from_input(df, input_review, input_rating, svd_model=svd, item_map=item_map)\n"
      ],
      "metadata": {
        "colab": {
          "base_uri": "https://localhost:8080/"
        },
        "id": "jIJB5biPfj8-",
        "outputId": "6f8da038-3d96-46ff-b2ea-7e60c7829129"
      },
      "execution_count": null,
      "outputs": [
        {
          "output_type": "stream",
          "name": "stdout",
          "text": [
            "User ID: A3Q0FXQVTBJAZC (Auto-selected for recommendation)\n"
          ]
        }
      ]
    },
    {
      "cell_type": "markdown",
      "metadata": {
        "id": "0gxMzpNn5YkW"
      },
      "source": [
        "Saving the Model"
      ]
    },
    {
      "cell_type": "code",
      "execution_count": null,
      "metadata": {
        "colab": {
          "base_uri": "https://localhost:8080/"
        },
        "id": "4w-oL2tI5Zho",
        "outputId": "2705d431-4511-4ae8-bc13-2ca79507feb7"
      },
      "outputs": [
        {
          "data": {
            "text/plain": [
              "['/content/drive/MyDrive/Projects/Amazon_Reviews/svd_model.pkl']"
            ]
          },
          "execution_count": 14,
          "metadata": {},
          "output_type": "execute_result"
        }
      ],
      "source": [
        "import joblib\n",
        "\n",
        "# Save the trained model\n",
        "joblib.dump(svd, '/content/drive/MyDrive/Projects/Amazon_Reviews/svd_model.pkl')\n"
      ]
    }
  ],
  "metadata": {
    "colab": {
      "provenance": [],
      "authorship_tag": "ABX9TyNVoUsKF9Ve/Yqv6NZuB5R1",
      "include_colab_link": true
    },
    "kernelspec": {
      "display_name": "Python 3",
      "name": "python3"
    },
    "language_info": {
      "name": "python"
    }
  },
  "nbformat": 4,
  "nbformat_minor": 0
}