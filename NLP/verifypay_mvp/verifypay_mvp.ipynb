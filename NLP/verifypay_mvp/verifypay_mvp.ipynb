{
 "cells": [
  {
   "cell_type": "code",
   "execution_count": null,
   "id": "0e38c5b6",
   "metadata": {},
   "outputs": [],
   "source": [
    "# VerifyPay MVP Prototype - Receipt Verifier 🚀"
   ]
  },
  {
   "cell_type": "code",
   "execution_count": null,
   "id": "1c03c2de",
   "metadata": {},
   "outputs": [],
   "source": [
    "# Install necessary packages\n",
    "!pip install pytesseract opencv-python gradio openai\n",
    "!apt-get install tesseract-ocr -y"
   ]
  },
  {
   "cell_type": "code",
   "execution_count": null,
   "id": "2991ac0e",
   "metadata": {},
   "outputs": [],
   "source": [
    "# Imports\n",
    "import pytesseract\n",
    "import cv2\n",
    "import gradio as gr\n",
    "import re\n",
    "import hashlib\n",
    "import openai\n",
    "from datetime import datetime\n",
    "from IPython.display import HTML"
   ]
  },
  {
   "cell_type": "code",
   "execution_count": null,
   "id": "ee64084a",
   "metadata": {},
   "outputs": [],
   "source": [
    "# Set your OpenAI API Key here\n",
    "openai.api_key = \"YOUR_OPENAI_API_KEY\""
   ]
  },
  {
   "cell_type": "code",
   "execution_count": null,
   "id": "07a837a4",
   "metadata": {},
   "outputs": [],
   "source": [
    "# OCR Function\n",
    "def extract_text_from_image(image):\n",
    "    gray = cv2.cvtColor(image, cv2.COLOR_BGR2GRAY)\n",
    "    text = pytesseract.image_to_string(gray)\n",
    "    return text"
   ]
  },
  {
   "cell_type": "code",
   "execution_count": null,
   "id": "bb1e3283",
   "metadata": {},
   "outputs": [],
   "source": [
    "# Parse receipt fields\n",
    "def parse_receipt(text):\n",
    "    amount = re.search(r'Amount: ₦?(\\d+[.,]?\\d*)', text)\n",
    "    sender = re.search(r'Sender: (.*)', text)\n",
    "    receiver = re.search(r'Receiver: (.*)', text)\n",
    "    date = re.search(r'Date: (.*)', text)\n",
    "    \n",
    "    return {\n",
    "        'amount': amount.group(1) if amount else 'Not Found',\n",
    "        'sender': sender.group(1) if sender else 'Not Found',\n",
    "        'receiver': receiver.group(1) if receiver else 'Not Found',\n",
    "        'date': date.group(1) if date else 'Not Found'\n",
    "    }"
   ]
  },
  {
   "cell_type": "code",
   "execution_count": null,
   "id": "ee60cee7",
   "metadata": {},
   "outputs": [],
   "source": [
    "# Simulated blockchain hash registry\n",
    "BLOCKCHAIN_DB = {\n",
    "    hashlib.sha256(b'2025-04-12-Amount:5000000').hexdigest(): {\n",
    "        \"status\": \"registered\",\n",
    "        \"registered_on\": \"2025-04-13 10:45:00\"\n",
    "    }\n",
    "}"
   ]
  },
  {
   "cell_type": "code",
   "execution_count": null,
   "id": "c8f8d846",
   "metadata": {},
   "outputs": [],
   "source": [
    "def verify_transaction(parsed_data):\n",
    "    key = f\"{parsed_data['date']}-Amount:{parsed_data['amount']}\"\n",
    "    hashed_key = hashlib.sha256(key.encode()).hexdigest()\n",
    "    return BLOCKCHAIN_DB.get(hashed_key, {\"status\": \"not found\"})"
   ]
  },
  {
   "cell_type": "code",
   "execution_count": null,
   "id": "dd533400",
   "metadata": {},
   "outputs": [],
   "source": [
    "# OpenAI LLM summary\n",
    "def classify_with_llm(parsed_data):\n",
    "    prompt = f\"Summarize and classify this receipt:\n",
    "{parsed_data}\"\n",
    "    response = openai.ChatCompletion.create(\n",
    "        model=\"gpt-3.5-turbo\",\n",
    "        messages=[{\"role\": \"user\", \"content\": prompt}]\n",
    "    )\n",
    "    return response.choices[0].message.content.strip()"
   ]
  },
  {
   "cell_type": "code",
   "execution_count": null,
   "id": "63645fad",
   "metadata": {},
   "outputs": [],
   "source": [
    "# Generate HTML report\n",
    "def generate_html_report(parsed, status, llm_feedback):\n",
    "    now = datetime.now().strftime(\"%Y-%m-%d %H:%M:%S\")\n",
    "    html = f'''\n",
    "    <html>\n",
    "    <head><title>VerifyPay Report</title></head>\n",
    "    <body style=\"font-family:sans-serif;\">\n",
    "        <h2>🧾 VerifyPay Receipt Report</h2>\n",
    "        <p><strong>Generated:</strong> {now}</p>\n",
    "        <hr>\n",
    "        <h3>Parsed Fields:</h3>\n",
    "        <ul>\n",
    "            <li><strong>Amount:</strong> ₦{parsed['amount']}</li>\n",
    "            <li><strong>Sender:</strong> {parsed['sender']}</li>\n",
    "            <li><strong>Receiver:</strong> {parsed['receiver']}</li>\n",
    "            <li><strong>Date:</strong> {parsed['date']}</li>\n",
    "        </ul>\n",
    "        <h3>Blockchain Status:</h3>\n",
    "        <p>{status['status'].capitalize()}</p>\n",
    "        <h3>LLM Feedback:</h3>\n",
    "        <pre>{llm_feedback}</pre>\n",
    "    </body>\n",
    "    </html>\n",
    "    '''\n",
    "    report_path = \"/mnt/data/receipt_report.html\"\n",
    "    with open(report_path, \"w\") as f:\n",
    "        f.write(html)\n",
    "    return report_path"
   ]
  },
  {
   "cell_type": "code",
   "execution_count": null,
   "id": "74a54040",
   "metadata": {},
   "outputs": [],
   "source": [
    "# Gradio UI\n",
    "def receipt_verification_ui(image):\n",
    "    text = extract_text_from_image(image)\n",
    "    parsed = parse_receipt(text)\n",
    "    blockchain_status = verify_transaction(parsed)\n",
    "    llm_feedback = classify_with_llm(parsed)\n",
    "    report_path = generate_html_report(parsed, blockchain_status, llm_feedback)\n",
    "    \n",
    "    result_msg = \"✅ Verified Transaction\" if blockchain_status['status'] == 'registered' else \"❗Suspicious or Unverified\"\n",
    "    \n",
    "    return parsed, result_msg, llm_feedback, report_path"
   ]
  },
  {
   "cell_type": "code",
   "execution_count": null,
   "id": "a52cedc8",
   "metadata": {},
   "outputs": [],
   "source": [
    "iface = gr.Interface(\n",
    "    fn=receipt_verification_ui,\n",
    "    inputs=gr.Image(type=\"numpy\"),\n",
    "    outputs=[\n",
    "        gr.JSON(label=\"Parsed Receipt Fields\"),\n",
    "        gr.Textbox(label=\"Verification Result\"),\n",
    "        gr.Textbox(label=\"LLM Classification Feedback\"),\n",
    "        gr.File(label=\"HTML Report Download\")\n",
    "    ],\n",
    "    title=\"VerifyPay - Receipt Verifier with LLM & Blockchain Check\",\n",
    "    description=\"Upload a receipt to verify its authenticity, get AI feedback, and generate an HTML report.\"\n",
    ")"
   ]
  },
  {
   "cell_type": "code",
   "execution_count": null,
   "id": "9a6bc8a4",
   "metadata": {},
   "outputs": [],
   "source": [
    "iface.launch()"
   ]
  }
 ],
 "metadata": {},
 "nbformat": 4,
 "nbformat_minor": 5
}
